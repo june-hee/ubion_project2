{
 "cells": [
  {
   "cell_type": "code",
   "execution_count": 7,
   "metadata": {},
   "outputs": [],
   "source": [
    "#불용어 사전 만들기\n",
    "list = [\"이준희\"]\n",
    "\n",
    "f = open(\"/Users/ijunhui/Downloads/ubion/프로젝트2/stop.txt\", 'a')\n",
    "for i in list:\n",
    "    f.write(i)\n",
    "    f.write('\\n')\n",
    "f.close()"
   ]
  },
  {
   "cell_type": "code",
   "execution_count": 2,
   "metadata": {},
   "outputs": [],
   "source": [
    "korean_stopwors_path = \"/Users/ijunhui/Downloads/ubion/프로젝트2/stop.txt\"\n",
    "\n",
    "# 불용어 텍스트 파일 오픈\n",
    "with open (korean_stopwors_path, encoding= 'utf8') as f : \n",
    "    stopwords = f.readlines()\n",
    "stopwords = [x.strip() for x in stopwords]"
   ]
  },
  {
   "cell_type": "code",
   "execution_count": 3,
   "metadata": {},
   "outputs": [
    {
     "name": "stdout",
     "output_type": "stream",
     "text": [
      "[0.009s][warning][os,thread] Attempt to protect stack guard pages failed (0x000000016ce68000-0x000000016ce74000).\n",
      "[0.009s][warning][os,thread] Attempt to deallocate stack guard pages failed.\n"
     ]
    }
   ],
   "source": [
    "from konlpy.tag import Okt\n",
    "import konlpy\n",
    "okt = Okt()\n",
    "\n",
    "okt = Okt()\n",
    "train_data = [\"에이치디시에스는 28일 기업 이미지 제고를 위해 금강제강으로 사명을 변경한다고 공시, 무단, 배포, 서울, 증권저작권\"]\n",
    "tokenized_data = []\n",
    "for sentence in (train_data):\n",
    "    tokenized_sentence = okt.nouns(sentence) # 토큰화 # morphs 형태소 단위로 / .nouns()명사만 / phrases() 어절\n",
    "    \n",
    "    t_s = []\n",
    "    for i in range(len(tokenized_sentence)):\n",
    "        if len(tokenized_sentence[i]) > 1:\n",
    "            t_s.append(tokenized_sentence[i])\n",
    "        \n",
    "    stopwords_removed_sentence = [word for word in t_s if not word in stopwords] # 불용어 단어 제거\n",
    "    tokenized_data.append(stopwords_removed_sentence)"
   ]
  },
  {
   "cell_type": "code",
   "execution_count": 4,
   "metadata": {},
   "outputs": [
    {
     "data": {
      "text/plain": [
       "['에이치디시에스는 28일 기업 이미지 제고를 위해 금강제강으로 사명을 변경한다고 공시, 무단, 배포, 서울, 증권저작권']"
      ]
     },
     "execution_count": 4,
     "metadata": {},
     "output_type": "execute_result"
    }
   ],
   "source": [
    "train_data"
   ]
  },
  {
   "cell_type": "code",
   "execution_count": 5,
   "metadata": {},
   "outputs": [
    {
     "data": {
      "text/plain": [
       "[['에이치', '디시', '에스', '기업', '이미지', '위해', '금강', '제강', '사명', '변경', '공시']]"
      ]
     },
     "execution_count": 5,
     "metadata": {},
     "output_type": "execute_result"
    }
   ],
   "source": [
    "tokenized_data"
   ]
  },
  {
   "cell_type": "code",
   "execution_count": null,
   "metadata": {},
   "outputs": [],
   "source": []
  }
 ],
 "metadata": {
  "kernelspec": {
   "display_name": "Python 3.10.6 64-bit",
   "language": "python",
   "name": "python3"
  },
  "language_info": {
   "codemirror_mode": {
    "name": "ipython",
    "version": 3
   },
   "file_extension": ".py",
   "mimetype": "text/x-python",
   "name": "python",
   "nbconvert_exporter": "python",
   "pygments_lexer": "ipython3",
   "version": "3.10.6"
  },
  "orig_nbformat": 4,
  "vscode": {
   "interpreter": {
    "hash": "b0fa6594d8f4cbf19f97940f81e996739fb7646882a419484c72d19e05852a7e"
   }
  }
 },
 "nbformat": 4,
 "nbformat_minor": 2
}
